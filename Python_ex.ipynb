{
 "cells": [
  {
   "cell_type": "markdown",
   "metadata": {
    "colab_type": "text",
    "id": "aAMCy0NfRncW"
   },
   "source": []
  },
  {
   "cell_type": "markdown",
   "metadata": {
    "colab_type": "text",
    "id": "jrIdJEaDTDnv"
   },
   "source": [
    "## Python Basics"
   ]
  },
  {
   "cell_type": "markdown",
   "metadata": {
    "colab_type": "text",
    "id": "BOsx-n7ZToKe"
   },
   "source": [
    "Problem: Implement an algorithm to determine if a string has all unique characters"
   ]
  },
  {
   "cell_type": "code",
   "execution_count": 1,
   "metadata": {
    "colab": {
     "base_uri": "https://localhost:8080/",
     "height": 34
    },
    "colab_type": "code",
    "id": "npX1A9zMTrna",
    "outputId": "b21f68fc-8783-47dd-e67e-1ea4a87ccd42"
   },
   "outputs": [
    {
     "name": "stdout",
     "output_type": "stream",
     "text": [
      "Not unique characters\n"
     ]
    }
   ],
   "source": [
    "#code starts here\n",
    "string= 'Sample Text'\n",
    "\n",
    "i = 0\n",
    "flag = True\n",
    "while i < len(string)-1:\n",
    "    j = i +1\n",
    "    while j < len(string):\n",
    "        if (string[i] == string[j]) and (string[i] != ' ' and string[j] != ' '):\n",
    "            flag = False\n",
    "            break\n",
    "        j+=1\n",
    "        \n",
    "    i+=1\n",
    "    \n",
    "if flag:\n",
    "    print('Unique Characters')\n",
    "    \n",
    "else:\n",
    "    print('Not unique characters')"
   ]
  },
  {
   "cell_type": "markdown",
   "metadata": {
    "colab_type": "text",
    "id": "oxWUZ2kwP8tX"
   },
   "source": [
    "<hr>"
   ]
  },
  {
   "cell_type": "markdown",
   "metadata": {
    "colab_type": "text",
    "id": "g990UbFSTtTb"
   },
   "source": [
    "Problem: Remove specified characters in a string irrespective of the case"
   ]
  },
  {
   "cell_type": "code",
   "execution_count": 2,
   "metadata": {
    "colab": {},
    "colab_type": "code",
    "id": "opP99vC9T6i2"
   },
   "outputs": [
    {
     "name": "stdout",
     "output_type": "stream",
     "text": [
      "Thikbumblebee lytics\n"
     ]
    }
   ],
   "source": [
    "#code starts here NOTE: A,a and N,n must be removed from the above string in the output\n",
    "char_to_remove =['A','N']\n",
    "string= 'Thinkbumblebee Analytics'\n",
    "\n",
    "i = 0\n",
    "while i < len(char_to_remove):\n",
    "    string = string.replace(char_to_remove[i].lower(), '')\n",
    "    string = string.replace(char_to_remove[i].upper(), '')\n",
    "    i += 1\n",
    "\n",
    "print(string)"
   ]
  },
  {
   "cell_type": "markdown",
   "metadata": {
    "colab_type": "text",
    "id": "gsNatgMwShpm"
   },
   "source": [
    "<hr>"
   ]
  },
  {
   "cell_type": "markdown",
   "metadata": {
    "colab_type": "text",
    "id": "mag1rkJJUfxC"
   },
   "source": [
    "**Problem**: Implement fibonacci recursively.\n",
    "\n",
    "**Constraints**\n",
    "<p>Does the sequence start at 0 or 1?</p>\n",
    " <p> 0 </p> \n",
    "<p> Can we assume the inputs are valid non-negative ints?</p> \n",
    "<p> Yes </p> \n",
    "<p> Are you looking for a recursive or iterative solution? </p> \n",
    "<p> Either</p> \n",
    "<p>Can we assume this fits memory?</p> \n",
    "<p> Yes</p> \n"
   ]
  },
  {
   "cell_type": "code",
   "execution_count": 3,
   "metadata": {
    "colab": {},
    "colab_type": "code",
    "id": "xUJT24ao8xu9"
   },
   "outputs": [
    {
     "name": "stdout",
     "output_type": "stream",
     "text": [
      "0 1 1 2 3 5 8 13 21 34 55 89 "
     ]
    }
   ],
   "source": [
    "tot = 0\n",
    "\n",
    "def recursive(a, b):\n",
    "    global tot\n",
    "    tot += 1\n",
    "    \n",
    "    c = a + b\n",
    "    a = b\n",
    "    b = c\n",
    "    print(c, end=' ')\n",
    "    \n",
    "    if tot != 10:\n",
    "        recursive(a,b)\n",
    "    \n",
    "    \n",
    "a = 0\n",
    "b = 1\n",
    "\n",
    "print(a, b, end=' ')\n",
    "\n",
    "recursive(a, b)"
   ]
  },
  {
   "cell_type": "markdown",
   "metadata": {
    "colab_type": "text",
    "id": "L0CBZqy1Z61d"
   },
   "source": [
    "<hr>"
   ]
  },
  {
   "cell_type": "markdown",
   "metadata": {
    "colab_type": "text",
    "id": "Hhi5mPn4IYG3"
   },
   "source": [
    "## Python OOPs"
   ]
  },
  {
   "cell_type": "markdown",
   "metadata": {
    "colab_type": "text",
    "id": "2RvxpGl4pp1a"
   },
   "source": [
    "Problem: Implement singly linked list using object oriented programming, instantiate it and perform insert, delete, search. <br><b>Note: Make sure you insert more than 10 nodes to test and print.</b>"
   ]
  },
  {
   "cell_type": "code",
   "execution_count": 4,
   "metadata": {
    "colab": {},
    "colab_type": "code",
    "id": "qLaxCw08fSpL"
   },
   "outputs": [
    {
     "name": "stdout",
     "output_type": "stream",
     "text": [
      "1 2 3 4 5 6 7 8 9 10 11 \n",
      "search data =  12\n",
      "search unsuccessfull \n",
      "\n",
      "delete_data =  6\n",
      "1 2 3 4 5 7 8 9 10 11 "
     ]
    }
   ],
   "source": [
    "# code here\n",
    "# code here\n",
    "class Node:\n",
    "    def __init__(self, data = None):\n",
    "        self.data = data\n",
    "        self.next = None\n",
    "        \n",
    "        \n",
    "class LinkedList:\n",
    "    def __init__(self):\n",
    "        self.head = None\n",
    "        \n",
    "    def print_or_search_node(self, *args):\n",
    "        global flag_match\n",
    "        cur_node = self.head\n",
    "        \n",
    "        if args:\n",
    "            print('\\nsearch data = ', format(args[0]))\n",
    "        while cur_node is not None:  \n",
    "            if args:\n",
    "                if args[0] == cur_node.data:\n",
    "                    flag_match = True\n",
    "                    break\n",
    "            else:\n",
    "                print(cur_node.data, end=' ')\n",
    "                \n",
    "            cur_node = cur_node.next\n",
    "\n",
    "        \n",
    "        if args:\n",
    "            if flag_match:\n",
    "                print('search successfull \\n')\n",
    "            else:\n",
    "                print('search unsuccessfull \\n')\n",
    "                \n",
    "    def delete_node(self, val):\n",
    "        cur_node = self.head\n",
    "        print('delete_data = ', val)\n",
    "        node_count = 0\n",
    "        while cur_node is not None:\n",
    "            \n",
    "            if cur_node.data == val:\n",
    "                \n",
    "                if node_count == 0:\n",
    "                    ##starting node\n",
    "                    self.head = cur_node.next\n",
    "                    cur_node = None\n",
    "                    \n",
    "                    cur_node = self.head\n",
    "                    \n",
    "                \n",
    "                    \n",
    "                else:\n",
    "                    ##other than starting node\n",
    "                    before_node.next = cur_node.next\n",
    "                    cur_node = None\n",
    "                \n",
    "                    cur_node = before_node\n",
    "            \n",
    "            \n",
    "            before_node = cur_node\n",
    "            cur_node = cur_node.next\n",
    "            \n",
    "            node_count += 1\n",
    "                \n",
    "        \n",
    "        ##printing new linked list\n",
    "        cur_node = self.head\n",
    "        while cur_node is not None:\n",
    "            print(cur_node.data, end=' ')\n",
    "            cur_node = cur_node.next    \n",
    "                \n",
    "lst_elem = [1, 2, 3, 4, 5, 6, 7, 8, 9, 10, 11] \n",
    "\n",
    "link_list_obj = LinkedList()\n",
    "\n",
    "root_obj = link_list_obj\n",
    "\n",
    "##insertion\n",
    "link_list_obj.head = Node(lst_elem[0])\n",
    "\n",
    "i = 1\n",
    "while i < len(lst_elem):\n",
    "    tmp = Node(lst_elem[i])\n",
    "    \n",
    "    if i == 1:\n",
    "        link_list_obj.head.next = tmp\n",
    "    \n",
    "    else:\n",
    "        link_list_obj.next = tmp\n",
    "    \n",
    "    link_list_obj = tmp\n",
    "            \n",
    "    i+=1\n",
    "    \n",
    "\n",
    "##traverse\n",
    "\n",
    "root_obj.print_or_search_node()\n",
    "    \n",
    "\n",
    "##search\n",
    "flag_match = False\n",
    "search = 12\n",
    "root_obj.print_or_search_node(search)\n",
    "\n",
    "\n",
    "##delete\n",
    "root_obj.delete_node(6)"
   ]
  },
  {
   "cell_type": "markdown",
   "metadata": {
    "colab_type": "text",
    "id": "6YkPob8UsjzS"
   },
   "source": [
    "## Python Data Types"
   ]
  },
  {
   "cell_type": "markdown",
   "metadata": {
    "colab_type": "text",
    "id": "Li2EJ1tPs0Iv"
   },
   "source": [
    "Problem: Read \"customer.csv\", save it into best suited python data type and perform below task:\n",
    "<br>1) Give me count of customer_id where state is \"NY\"\n",
    "<br>2) Give me count of customer_id where state is \"NY\" and phone number is not given. \n",
    "<br><b>Note: Pandas or any python package is allowed, but only to read csv file and not to complete the task. Answer is expected from python native data types only.</b>"
   ]
  },
  {
   "cell_type": "code",
   "execution_count": 5,
   "metadata": {
    "colab": {},
    "colab_type": "code",
    "id": "oEpH7zXL8VR1"
   },
   "outputs": [
    {
     "name": "stdout",
     "output_type": "stream",
     "text": [
      "count_cust_id1 =  13100\n",
      "count_cust_id2 =  905\n"
     ]
    }
   ],
   "source": [
    "# code here\n",
    "\n",
    "import csv\n",
    "\n",
    "##Note-Change this path with the actual path consisting customer.csv file\n",
    "with open(r\"D:\\test_29_oct_2020\\customer.csv\") as csv_file:\n",
    "    csv_reader = csv.reader(csv_file, delimiter=',')\n",
    "    \n",
    "    line_count = 0\n",
    "    count_cust_id1 = 0\n",
    "    count_cust_id2 =  0\n",
    "    for row in csv_reader:\n",
    "        if line_count != 0:\n",
    "            if row[7] == 'NY':\n",
    "                ##count of customer_id where state is \"NY\"\n",
    "                count_cust_id1 += int(row[0])\n",
    "            \n",
    "            if row[7] == 'NY' and row[3] != \"\":\n",
    "                ##count of customer_id where state is \"NY\" and phone number is not given.\n",
    "                count_cust_id2 += int(row[0])\n",
    "                \n",
    "                \n",
    "        line_count +=1\n",
    "        \n",
    "    \n",
    "    print(\"count_cust_id1 = \", count_cust_id1)\n",
    "    print(\"count_cust_id2 = \", count_cust_id2)"
   ]
  },
  {
   "cell_type": "markdown",
   "metadata": {
    "colab_type": "text",
    "id": "GhtEcK2GNai3"
   },
   "source": [
    "<hr>"
   ]
  },
  {
   "cell_type": "markdown",
   "metadata": {
    "colab_type": "text",
    "id": "W_-8HktcNgO2"
   },
   "source": [
    "Problem: Perform below task\n",
    "<br>1) Create a list of 10 even numbers using **list comprehension.** \n",
    "<br>2) Create a list of 10 odd numbers using **list comprehension.**\n",
    "<br>3) Multiply and sum them up while iterating over once.\n",
    "<br> x = x1 + x2 + x3 + ....... + x9 + x10\n",
    "<br> y = y1 + y2 + y3 + ....... + y9 + y10\n",
    "<br> z = x1y1 + x2y2 + x3y3 + ....... + x9y9 + x10y10\n",
    "<br> **Least expected time complexity is O(n)**\n"
   ]
  },
  {
   "cell_type": "code",
   "execution_count": 6,
   "metadata": {
    "colab": {},
    "colab_type": "code",
    "id": "hVtOifal8Z_M"
   },
   "outputs": [
    {
     "name": "stdout",
     "output_type": "stream",
     "text": [
      "[0, 2, 4, 6, 8, 10, 12, 14, 16, 18]\n",
      "[1, 3, 5, 7, 9, 11, 13, 15, 17, 19]\n",
      "1230\n"
     ]
    }
   ],
   "source": [
    "# code here\n",
    "lst_even = [each_elem for each_elem in range(20) if each_elem %2 == 0]\n",
    "print(lst_even)\n",
    "\n",
    "lst_odd = [each_elem for each_elem in range(20) if each_elem %2 != 0]\n",
    "print(lst_odd)\n",
    "\n",
    "sum = 0\n",
    "i = 0\n",
    "while i < len(lst_even):\n",
    "    sum = sum + lst_even[i]*lst_odd[i]\n",
    "    \n",
    "    i += 1\n",
    "\n",
    "print(sum) "
   ]
  },
  {
   "cell_type": "code",
   "execution_count": null,
   "metadata": {},
   "outputs": [],
   "source": []
  }
 ],
 "metadata": {
  "colab": {
   "collapsed_sections": [
    "wGWR6fZGwii6"
   ],
   "name": "Assignment_Python.ipynb",
   "provenance": [],
   "toc_visible": true
  },
  "kernelspec": {
   "display_name": "Python 3",
   "language": "python",
   "name": "python3"
  },
  "language_info": {
   "codemirror_mode": {
    "name": "ipython",
    "version": 3
   },
   "file_extension": ".py",
   "mimetype": "text/x-python",
   "name": "python",
   "nbconvert_exporter": "python",
   "pygments_lexer": "ipython3",
   "version": "3.7.4"
  }
 },
 "nbformat": 4,
 "nbformat_minor": 1
}
